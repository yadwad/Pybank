{
 "cells": [
  {
   "cell_type": "code",
   "execution_count": 1,
   "metadata": {},
   "outputs": [],
   "source": [
    "%matplotlib inline\n",
    "\n",
    "# Dependencies and Setup\n",
    "import matplotlib.pyplot as plt\n",
    "import pandas as pd\n",
    "import numpy as np\n",
    "\n",
    "# File to Load (Remember to change these)\n",
    "city_data_to_load = \"data/city_data.csv\"\n",
    "ride_data_to_load = \"data/ride_data.csv\"\n",
    "\n",
    "# Read the City and Ride Data\n",
    "city_df= pd.read_csv(city_data_to_load)\n",
    "ride_df= pd.read_csv(ride_data_to_load)\n",
    "\n",
    "\n"
   ]
  },
  {
   "cell_type": "code",
   "execution_count": 2,
   "metadata": {},
   "outputs": [],
   "source": [
    "\n",
    "# Combine the data into a single dataset\n",
    "combine_df= pd.merge(city_df,ride_df, how=\"left\", on=[\"city\"])"
   ]
  },
  {
   "cell_type": "code",
   "execution_count": 3,
   "metadata": {
    "scrolled": true
   },
   "outputs": [
    {
     "data": {
      "text/html": [
       "<div>\n",
       "<style scoped>\n",
       "    .dataframe tbody tr th:only-of-type {\n",
       "        vertical-align: middle;\n",
       "    }\n",
       "\n",
       "    .dataframe tbody tr th {\n",
       "        vertical-align: top;\n",
       "    }\n",
       "\n",
       "    .dataframe thead th {\n",
       "        text-align: right;\n",
       "    }\n",
       "</style>\n",
       "<table border=\"1\" class=\"dataframe\">\n",
       "  <thead>\n",
       "    <tr style=\"text-align: right;\">\n",
       "      <th></th>\n",
       "      <th>city</th>\n",
       "      <th>driver_count</th>\n",
       "      <th>type</th>\n",
       "      <th>date</th>\n",
       "      <th>fare</th>\n",
       "      <th>ride_id</th>\n",
       "    </tr>\n",
       "  </thead>\n",
       "  <tbody>\n",
       "    <tr>\n",
       "      <th>0</th>\n",
       "      <td>Richardfort</td>\n",
       "      <td>38</td>\n",
       "      <td>Urban</td>\n",
       "      <td>2018-02-24 08:40:38</td>\n",
       "      <td>13.93</td>\n",
       "      <td>5628545007794</td>\n",
       "    </tr>\n",
       "    <tr>\n",
       "      <th>1</th>\n",
       "      <td>Richardfort</td>\n",
       "      <td>38</td>\n",
       "      <td>Urban</td>\n",
       "      <td>2018-02-13 12:46:07</td>\n",
       "      <td>14.00</td>\n",
       "      <td>910050116494</td>\n",
       "    </tr>\n",
       "    <tr>\n",
       "      <th>2</th>\n",
       "      <td>Richardfort</td>\n",
       "      <td>38</td>\n",
       "      <td>Urban</td>\n",
       "      <td>2018-02-16 13:52:19</td>\n",
       "      <td>17.92</td>\n",
       "      <td>820639054416</td>\n",
       "    </tr>\n",
       "    <tr>\n",
       "      <th>3</th>\n",
       "      <td>Richardfort</td>\n",
       "      <td>38</td>\n",
       "      <td>Urban</td>\n",
       "      <td>2018-02-01 20:18:28</td>\n",
       "      <td>10.26</td>\n",
       "      <td>9554935945413</td>\n",
       "    </tr>\n",
       "    <tr>\n",
       "      <th>4</th>\n",
       "      <td>Richardfort</td>\n",
       "      <td>38</td>\n",
       "      <td>Urban</td>\n",
       "      <td>2018-04-17 02:26:37</td>\n",
       "      <td>23.00</td>\n",
       "      <td>720020655850</td>\n",
       "    </tr>\n",
       "    <tr>\n",
       "      <th>5</th>\n",
       "      <td>Richardfort</td>\n",
       "      <td>38</td>\n",
       "      <td>Urban</td>\n",
       "      <td>2018-04-21 03:44:04</td>\n",
       "      <td>9.54</td>\n",
       "      <td>3698147103219</td>\n",
       "    </tr>\n",
       "    <tr>\n",
       "      <th>6</th>\n",
       "      <td>Richardfort</td>\n",
       "      <td>38</td>\n",
       "      <td>Urban</td>\n",
       "      <td>2018-02-03 00:14:26</td>\n",
       "      <td>29.04</td>\n",
       "      <td>4982665519010</td>\n",
       "    </tr>\n",
       "    <tr>\n",
       "      <th>7</th>\n",
       "      <td>Richardfort</td>\n",
       "      <td>38</td>\n",
       "      <td>Urban</td>\n",
       "      <td>2018-02-08 15:50:12</td>\n",
       "      <td>16.55</td>\n",
       "      <td>2270463070874</td>\n",
       "    </tr>\n",
       "    <tr>\n",
       "      <th>8</th>\n",
       "      <td>Richardfort</td>\n",
       "      <td>38</td>\n",
       "      <td>Urban</td>\n",
       "      <td>2018-04-03 15:07:34</td>\n",
       "      <td>40.77</td>\n",
       "      <td>9496210735824</td>\n",
       "    </tr>\n",
       "    <tr>\n",
       "      <th>9</th>\n",
       "      <td>Richardfort</td>\n",
       "      <td>38</td>\n",
       "      <td>Urban</td>\n",
       "      <td>2018-02-19 14:09:20</td>\n",
       "      <td>27.11</td>\n",
       "      <td>8690324801449</td>\n",
       "    </tr>\n",
       "  </tbody>\n",
       "</table>\n",
       "</div>"
      ],
      "text/plain": [
       "          city  driver_count   type                 date   fare        ride_id\n",
       "0  Richardfort            38  Urban  2018-02-24 08:40:38  13.93  5628545007794\n",
       "1  Richardfort            38  Urban  2018-02-13 12:46:07  14.00   910050116494\n",
       "2  Richardfort            38  Urban  2018-02-16 13:52:19  17.92   820639054416\n",
       "3  Richardfort            38  Urban  2018-02-01 20:18:28  10.26  9554935945413\n",
       "4  Richardfort            38  Urban  2018-04-17 02:26:37  23.00   720020655850\n",
       "5  Richardfort            38  Urban  2018-04-21 03:44:04   9.54  3698147103219\n",
       "6  Richardfort            38  Urban  2018-02-03 00:14:26  29.04  4982665519010\n",
       "7  Richardfort            38  Urban  2018-02-08 15:50:12  16.55  2270463070874\n",
       "8  Richardfort            38  Urban  2018-04-03 15:07:34  40.77  9496210735824\n",
       "9  Richardfort            38  Urban  2018-02-19 14:09:20  27.11  8690324801449"
      ]
     },
     "execution_count": 3,
     "metadata": {},
     "output_type": "execute_result"
    }
   ],
   "source": [
    "# Display the data table for preview\n",
    "combine_df.head(10)"
   ]
  },
  {
   "cell_type": "markdown",
   "metadata": {},
   "source": [
    "## Bubble Plot of Ride Sharing Data"
   ]
  },
  {
   "cell_type": "code",
   "execution_count": 3,
   "metadata": {},
   "outputs": [
    {
     "ename": "NameError",
     "evalue": "name 'combine_df' is not defined",
     "output_type": "error",
     "traceback": [
      "\u001b[1;31m---------------------------------------------------------------------------\u001b[0m",
      "\u001b[1;31mNameError\u001b[0m                                 Traceback (most recent call last)",
      "\u001b[1;32m<ipython-input-3-f843dc7d60a0>\u001b[0m in \u001b[0;36m<module>\u001b[1;34m\u001b[0m\n\u001b[1;32m----> 1\u001b[1;33m \u001b[0mride_data\u001b[0m \u001b[1;33m=\u001b[0m \u001b[0mcombine_df\u001b[0m\u001b[1;33m.\u001b[0m\u001b[0mgroupby\u001b[0m\u001b[1;33m(\u001b[0m\u001b[1;34m'city'\u001b[0m\u001b[1;33m)\u001b[0m\u001b[1;33m\u001b[0m\u001b[1;33m\u001b[0m\u001b[0m\n\u001b[0m\u001b[0;32m      2\u001b[0m \u001b[1;33m\u001b[0m\u001b[0m\n\u001b[0;32m      3\u001b[0m \u001b[0mfare\u001b[0m \u001b[1;33m=\u001b[0m \u001b[0mgrouped_ride_data\u001b[0m\u001b[1;33m[\u001b[0m\u001b[1;34m'fare'\u001b[0m\u001b[1;33m]\u001b[0m\u001b[1;33m.\u001b[0m\u001b[0mmean\u001b[0m\u001b[1;33m(\u001b[0m\u001b[1;33m)\u001b[0m\u001b[1;33m\u001b[0m\u001b[1;33m\u001b[0m\u001b[0m\n\u001b[0;32m      4\u001b[0m \u001b[1;33m\u001b[0m\u001b[0m\n\u001b[0;32m      5\u001b[0m \u001b[0mtotal_rides\u001b[0m \u001b[1;33m=\u001b[0m \u001b[0mgrouped_ride_data\u001b[0m\u001b[1;33m[\u001b[0m\u001b[1;34m'ride_id'\u001b[0m\u001b[1;33m]\u001b[0m\u001b[1;33m.\u001b[0m\u001b[0mcount\u001b[0m\u001b[1;33m(\u001b[0m\u001b[1;33m)\u001b[0m\u001b[1;33m\u001b[0m\u001b[1;33m\u001b[0m\u001b[0m\n",
      "\u001b[1;31mNameError\u001b[0m: name 'combine_df' is not defined"
     ]
    }
   ],
   "source": [
    "ride_data = combine_df.groupby('city')\n",
    "\n",
    "fare = grouped_ride_data['fare'].mean()\n",
    "\n",
    "total_rides = grouped_ride_data['ride_id'].count()\n",
    "\n",
    "total_drivers = grouped_ride_data['driver_count'].max()\n",
    "\n",
    "city_type = grouped_ride_data['type'].max()\n",
    "\n",
    "\n",
    "bubble_df = pd.DataFrame ({'Average Fare ($)': fare,\n",
    "                           'Total Rides': total_rides,\n",
    "                           'Total Drivers': total_drivers,\n",
    "                           'City Type': city_type})\n",
    "\n",
    "bubble_df.head()\n",
    "\n",
    "# Obtain the x and y coordinates for each of the three city types\n",
    "\n",
    "\n",
    "Urban = bubble_df.loc[bubble_df['City Type'] == 'Urban']\n",
    "Suburban = bubble_df.loc[bubble_df['City Type'] == 'Suburban']\n",
    "Rural = bubble_df.loc[bubble_df['City Type'] == 'Rural']\n",
    "\n",
    "x_urban = Urban['Total Rides']\n",
    "y_urban = Urban['Average Fare ($)']\n",
    "                \n",
    "x_suburban = Suburban['Total Rides']\n",
    "y_suburban = Suburban['Average Fare ($)']\n",
    "                \n",
    "x_rural = Rural['Total Rides']\n",
    "y_rural = Rural['Average Fare ($)']                \n",
    "\n",
    "# Build the scatter plots f'or each city types\n",
    "\n",
    "sizes = [Urban['Total Drivers'] * 10, Suburban['Total Drivers'] * 10, Rural['Total Drivers'] * 10]\n",
    "colors = ['coral', 'lightskyblue', 'gold']\n",
    "\n",
    "plt.figure(figsize=(15, 15))\n",
    "\n",
    "plt.scatter(x_urban, y_urban, s=sizes[0], linewidths=1, c=colors[0], edgecolor='black', alpha=0.75, label='Urban')\n",
    "plt.scatter(x_suburban, y_suburban, s=sizes[1], linewidths=1, c=colors[1], edgecolor='black', alpha=0.75, label='Suburban')\n",
    "plt.scatter(x_rural, y_rural, s=sizes[2], linewidths=1, c=colors[2], edgecolor='black', alpha=0.75, label='Rural')\n",
    "\n",
    "# Incorporate the other graph properties\n",
    "\n",
    "\n",
    "plt.title('Pyber Ride Sharing Data (2016)')\n",
    "plt.xlabel('Total Number of Rides (Per City)')\n",
    "plt.ylabel('Average Fare ($)')\n",
    "\n",
    "plt.xlim(0, 41)\n",
    "plt.ylim(19, 44)\n",
    "plt.grid(True)\n",
    "\n",
    "\n",
    "plt.show()\n",
    "\n"
   ]
  },
  {
   "cell_type": "code",
   "execution_count": null,
   "metadata": {},
   "outputs": [],
   "source": [
    "# Show plot\n",
    "plt.show()"
   ]
  },
  {
   "cell_type": "markdown",
   "metadata": {},
   "source": [
    "## Total Fares by City Type"
   ]
  },
  {
   "cell_type": "code",
   "execution_count": 8,
   "metadata": {},
   "outputs": [],
   "source": [
    "ride_urban = combine_df.loc[combine_df['type'] == 'Urban']\n",
    "ride_suburban = combine_df.loc[combine_df['type'] == 'Suburban']\n",
    "ride_rural = combine_df.loc[combine_df['type'] == 'Rural']"
   ]
  },
  {
   "cell_type": "code",
   "execution_count": 9,
   "metadata": {},
   "outputs": [
    {
     "data": {
      "image/png": "[encoded data removed]",
      "text/plain": [
       "<Figure size 720x720 with 1 Axes>"
      ]
     },
     "metadata": {},
     "output_type": "display_data"
    }
   ],
   "source": [
    "# Calculate Type Percents\n",
    "\n",
    "urban_percent = ride_urban['fare'].sum() / combine_df['fare'].sum() * 100\n",
    "suburban_percent = ride_suburban['fare'].sum() / combine_df['fare'].sum() * 100\n",
    "rural_percent = ride_rural['fare'].sum() / combine_df['fare'].sum() * 100\n",
    "\n",
    "# Build Pie Chart\n",
    "\n",
    "labels = ['Urban', 'Rural', 'Suburban']\n",
    "\n",
    "colors = ['Red', 'Yellow', 'Lightskyblue']\n",
    "\n",
    "explode = (0.1, 0, 0)\n",
    "\n",
    "total_fare_percent = [urban_percent, rural_percent, suburban_percent]\n",
    "\n",
    "# Save Figure\n",
    "\n",
    "plt.figure(figsize=(10, 10))\n",
    "\n",
    "plt.pie(total_fare_percent, explode=explode, labels=labels, colors=colors, autopct=\"%1.1f%%\", shadow=True, startangle=280)\n",
    "\n",
    "plt.title('% of Total Fares by City Type')\n",
    "\n",
    "plt.show()"
   ]
  },
  {
   "cell_type": "markdown",
   "metadata": {},
   "source": [
    "## Total Rides by City Type"
   ]
  },
  {
   "cell_type": "code",
   "execution_count": 10,
   "metadata": {},
   "outputs": [
    {
     "data": {
      "image/png": "[encoded data removed]",
      "text/plain": [
       "<Figure size 720x720 with 1 Axes>"
      ]
     },
     "metadata": {},
     "output_type": "display_data"
    }
   ],
   "source": [
    "\n",
    "# Calculate Ride Percents\n",
    "\n",
    "urban_ride_percent = ride_urban['ride_id'].count() / combine_df['ride_id'].count() * 100\n",
    "suburban_ride_percent = ride_suburban['ride_id'].count() / combine_df['ride_id'].count() * 100\n",
    "rural_ride_percent = ride_rural['ride_id'].count() / combine_df['ride_id'].count() * 100\n",
    "\n",
    "# Build Pie Chart\n",
    "\n",
    "labels = ['Urban', 'Rural', 'Suburban']\n",
    "\n",
    "colors = ['Red', 'Yellow', 'Lightskyblue']\n",
    "\n",
    "explode = (0.1, 0, 0)\n",
    "\n",
    "total_ride_percent = [urban_ride_percent, rural_ride_percent, suburban_ride_percent]\n",
    "\n",
    "# Save Figure\n",
    "\n",
    "plt.figure(figsize=(10, 10))\n",
    "\n",
    "plt.pie(total_ride_percent, explode=explode, labels=labels, colors=colors, autopct=\"%1.1f%%\", shadow=True, startangle=270)\n",
    "\n",
    "plt.title('% of Total Rides by City Type')\n",
    "\n",
    "plt.show()"
   ]
  },
  {
   "cell_type": "markdown",
   "metadata": {},
   "source": [
    "## Total Drivers by City Type"
   ]
  },
  {
   "cell_type": "code",
   "execution_count": 6,
   "metadata": {},
   "outputs": [
    {
     "ename": "NameError",
     "evalue": "name 'ride_urban' is not defined",
     "output_type": "error",
     "traceback": [
      "\u001b[1;31m---------------------------------------------------------------------------\u001b[0m",
      "\u001b[1;31mNameError\u001b[0m                                 Traceback (most recent call last)",
      "\u001b[1;32m<ipython-input-6-027292f933ae>\u001b[0m in \u001b[0;36m<module>\u001b[1;34m\u001b[0m\n\u001b[0;32m      1\u001b[0m \u001b[1;31m# Calculate Driver Percents\u001b[0m\u001b[1;33m\u001b[0m\u001b[1;33m\u001b[0m\u001b[1;33m\u001b[0m\u001b[0m\n\u001b[0;32m      2\u001b[0m \u001b[1;33m\u001b[0m\u001b[0m\n\u001b[1;32m----> 3\u001b[1;33m \u001b[0mride_type_urban_grouped\u001b[0m \u001b[1;33m=\u001b[0m \u001b[0mride_urban\u001b[0m\u001b[1;33m.\u001b[0m\u001b[0mgroupby\u001b[0m\u001b[1;33m(\u001b[0m\u001b[1;34m'city'\u001b[0m\u001b[1;33m)\u001b[0m\u001b[1;33m\u001b[0m\u001b[1;33m\u001b[0m\u001b[0m\n\u001b[0m\u001b[0;32m      4\u001b[0m \u001b[0mride_type_suburban_grouped\u001b[0m \u001b[1;33m=\u001b[0m \u001b[0mride_suburban\u001b[0m\u001b[1;33m.\u001b[0m\u001b[0mgroupby\u001b[0m\u001b[1;33m(\u001b[0m\u001b[1;34m'city'\u001b[0m\u001b[1;33m)\u001b[0m\u001b[1;33m\u001b[0m\u001b[1;33m\u001b[0m\u001b[0m\n\u001b[0;32m      5\u001b[0m \u001b[0mride_type_rural_grouped\u001b[0m \u001b[1;33m=\u001b[0m \u001b[0mride_rural\u001b[0m\u001b[1;33m.\u001b[0m\u001b[0mgroupby\u001b[0m\u001b[1;33m(\u001b[0m\u001b[1;34m'city'\u001b[0m\u001b[1;33m)\u001b[0m\u001b[1;33m\u001b[0m\u001b[1;33m\u001b[0m\u001b[0m\n",
      "\u001b[1;31mNameError\u001b[0m: name 'ride_urban' is not defined"
     ]
    }
   ],
   "source": [
    "# Calculate Driver Percents\n",
    "\n",
    "ride_type_urban_grouped = ride_urban.groupby('city')\n",
    "ride_type_suburban_grouped = ride_suburban.groupby('city')\n",
    "ride_type_rural_grouped = ride_rural.groupby('city')\n",
    "\n",
    "urban_driver = ride_type_urban_grouped['driver_count'].max().sum() / grouped_ride_data['driver_count'].max().sum() * 100\n",
    "suburban_driver = ride_type_suburban_grouped['driver_count'].max().sum() / grouped_ride_data['driver_count'].max().sum() * 100\n",
    "rural_driver= ride_type_rural_grouped['driver_count'].max().sum() / grouped_ride_data['driver_count'].max().sum() * 100\n",
    "\n",
    "\n",
    "\n"
   ]
  },
  {
   "cell_type": "code",
   "execution_count": 2,
   "metadata": {
    "scrolled": true
   },
   "outputs": [
    {
     "ename": "NameError",
     "evalue": "name 'plt' is not defined",
     "output_type": "error",
     "traceback": [
      "\u001b[1;31m---------------------------------------------------------------------------\u001b[0m",
      "\u001b[1;31mNameError\u001b[0m                                 Traceback (most recent call last)",
      "\u001b[1;32m<ipython-input-2-f6ad4b079b4f>\u001b[0m in \u001b[0;36m<module>\u001b[1;34m\u001b[0m\n\u001b[0;32m      1\u001b[0m \u001b[1;31m# Show Figure\u001b[0m\u001b[1;33m\u001b[0m\u001b[1;33m\u001b[0m\u001b[1;33m\u001b[0m\u001b[0m\n\u001b[1;32m----> 2\u001b[1;33m \u001b[0mplt\u001b[0m\u001b[1;33m.\u001b[0m\u001b[0mshow\u001b[0m\u001b[1;33m(\u001b[0m\u001b[1;33m)\u001b[0m\u001b[1;33m\u001b[0m\u001b[1;33m\u001b[0m\u001b[0m\n\u001b[0m",
      "\u001b[1;31mNameError\u001b[0m: name 'plt' is not defined"
     ]
    }
   ],
   "source": [
    "# Show Figure\n",
    "plt.show()"
   ]
  },
  {
   "cell_type": "code",
   "execution_count": null,
   "metadata": {},
   "outputs": [],
   "source": []
  }
 ],
 "metadata": {
  "anaconda-cloud": {},
  "kernelspec": {
   "display_name": "Python 3",
   "language": "python",
   "name": "python3"
  },
  "language_info": {
   "codemirror_mode": {
    "name": "ipython",
    "version": 3
   },
   "file_extension": ".py",
   "mimetype": "text/x-python",
   "name": "python",
   "nbconvert_exporter": "python",
   "pygments_lexer": "ipython3",
   "version": "3.7.1"
  }
 },
 "nbformat": 4,
 "nbformat_minor": 2
}
